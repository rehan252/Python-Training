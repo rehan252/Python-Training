{
 "cells": [
  {
   "cell_type": "raw",
   "metadata": {},
   "source": [
    "Also known as Arbitrary or Lambda Function\n",
    "    Takes exact one Expression\n",
    "    Doesn't return\n",
    "    Can take many Arguments\n",
    "    Can be use as Argument inside other Functions\n",
    "    Can't perform Assigning in Lambda Function  "
   ]
  },
  {
   "cell_type": "code",
   "execution_count": 2,
   "metadata": {},
   "outputs": [],
   "source": [
    "\"\"\"(Syntax) lambda Argument: Expression \"\"\"\n",
    "\n",
    "add = lambda a: a+a"
   ]
  },
  {
   "cell_type": "code",
   "execution_count": 4,
   "metadata": {},
   "outputs": [
    {
     "data": {
      "text/plain": [
       "24"
      ]
     },
     "execution_count": 4,
     "metadata": {},
     "output_type": "execute_result"
    }
   ],
   "source": [
    "add(12)"
   ]
  },
  {
   "cell_type": "code",
   "execution_count": 5,
   "metadata": {},
   "outputs": [],
   "source": [
    "double = lambda b: b*2"
   ]
  },
  {
   "cell_type": "code",
   "execution_count": 6,
   "metadata": {},
   "outputs": [
    {
     "data": {
      "text/plain": [
       "[1, 2, 3, 4, 1, 2, 3, 4]"
      ]
     },
     "execution_count": 6,
     "metadata": {},
     "output_type": "execute_result"
    }
   ],
   "source": [
    "double([1,2,3,4])"
   ]
  },
  {
   "cell_type": "code",
   "execution_count": 13,
   "metadata": {},
   "outputs": [
    {
     "name": "stdout",
     "output_type": "stream",
     "text": [
      "[2, 4, 6, 8]\n"
     ]
    }
   ],
   "source": [
    "\"\"\"To get double value of list items we use 'map()'\n",
    "   it takes Function and list as Argument and Perform\n",
    "   Function's Expression on List, Here's Syntax\n",
    "   list(map(lambda Argument: Expression, list))\"\"\"\n",
    "\n",
    "nums = [1,2,3,4]\n",
    "double_list = list(map(lambda x: x*2, nums))\n",
    "print(double_list)"
   ]
  },
  {
   "cell_type": "code",
   "execution_count": 1,
   "metadata": {},
   "outputs": [
    {
     "name": "stdout",
     "output_type": "stream",
     "text": [
      "[6, 42, 4, 81, 49]\n"
     ]
    }
   ],
   "source": [
    "#map() with multiple iterables arguments\n",
    "list1 = [2,7,4,9,7]\n",
    "list2 = [3,6,1,9,7]\n",
    "product = list(map(lambda x,y: x*y, list1, list2))\n",
    "print(product)"
   ]
  },
  {
   "cell_type": "code",
   "execution_count": 8,
   "metadata": {},
   "outputs": [
    {
     "name": "stdout",
     "output_type": "stream",
     "text": [
      "[5, 1, 4, 1.0, 0]\n"
     ]
    }
   ],
   "source": [
    "#passing a list of Functions to map() to create a simple calculator\n",
    "\n",
    "def add(num1,num2) : return num1 + num2\n",
    "def sub(num1,num2) : return num1 - num2\n",
    "def mul(num1,num2) : return num1 * num2\n",
    "def div(num1,num2) : return num1 / num2\n",
    "def mod(num1,num2) : return num1 % num2\n",
    "\n",
    "op = [add,sub,mul,div,mod]\n",
    "small_calc = list(map(lambda op,a,b: op(a,b), op, list1, list2))\n",
    "print(small_calc)"
   ]
  },
  {
   "cell_type": "code",
   "execution_count": null,
   "metadata": {},
   "outputs": [],
   "source": []
  },
  {
   "cell_type": "code",
   "execution_count": 14,
   "metadata": {},
   "outputs": [
    {
     "name": "stdout",
     "output_type": "stream",
     "text": [
      "List of Numbers Divisible by 3: [3, 18]\n"
     ]
    }
   ],
   "source": [
    "\"\"\"To get Conditional result we use 'filter()'\n",
    "   work same as 'if' condition and returns\n",
    "   a filtered new list, Syntax:\n",
    "   list(map(lambda Argument: Condition/Expression, list))\"\"\"\n",
    "\n",
    "lists = [2,5,3,7,10,4,18,67,122]\n",
    "filtered = list(filter(lambda x: x%3 == 0, lists))\n",
    "print(\"List of Numbers Divisible by 3: {}\".format(filtered))"
   ]
  },
  {
   "cell_type": "code",
   "execution_count": 25,
   "metadata": {},
   "outputs": [
    {
     "name": "stdout",
     "output_type": "stream",
     "text": [
      "ABCDEFGHIJ\n"
     ]
    }
   ],
   "source": [
    "from functools import reduce\n",
    "\n",
    "\"\"\"To perform operation on pairs of list items\n",
    "   we use 'reduce()' Here's Syntax:\n",
    "   reduce((lambda: list_item_1, list_item_2: Expression), list)\"\"\"\n",
    "\n",
    "alpha = ['AB','CD','EF','GH','IJ']\n",
    "comb = reduce((lambda x,y: x + y), alpha)\n",
    "print(comb)"
   ]
  },
  {
   "cell_type": "code",
   "execution_count": 26,
   "metadata": {},
   "outputs": [
    {
     "name": "stdout",
     "output_type": "stream",
     "text": [
      "123\n"
     ]
    }
   ],
   "source": [
    "num = [2,34,1,4,5,67,10]\n",
    "add_all = reduce((lambda x,y: x + y), num)\n",
    "print(add_all)"
   ]
  },
  {
   "cell_type": "raw",
   "metadata": {},
   "source": [
    "Here it is how Upper Program working\n",
    "((((((2 + 34) + 1) + 4) + 5) + 67) + 10)"
   ]
  },
  {
   "cell_type": "code",
   "execution_count": 30,
   "metadata": {},
   "outputs": [
    {
     "name": "stdout",
     "output_type": "stream",
     "text": [
      "{98, 100, 6, 11, 13, 87, 26}\n"
     ]
    }
   ],
   "source": [
    "\"\"\"Using 'zip()', it takes two lists and merge them\n",
    "   together and return as tuple, it takes 2 lists \n",
    "   with same number of items\"\"\"\n",
    "\n",
    "#Find max numbers in two lists \n",
    "\n",
    "list1 = [9,1,28,10,26,98,12]\n",
    "list2 = [11,6,87,100,23,1,13]\n",
    "max_pair = set(map(lambda pair: max(pair), zip(list1,list2)))\n",
    "print(max_pair)"
   ]
  },
  {
   "cell_type": "raw",
   "metadata": {},
   "source": [
    "How Above Program is working\n",
    "maximum in (list1[item],list2[item])"
   ]
  }
 ],
 "metadata": {
  "kernelspec": {
   "display_name": "Python 3",
   "language": "python",
   "name": "python3"
  },
  "language_info": {
   "codemirror_mode": {
    "name": "ipython",
    "version": 3
   },
   "file_extension": ".py",
   "mimetype": "text/x-python",
   "name": "python",
   "nbconvert_exporter": "python",
   "pygments_lexer": "ipython3",
   "version": "3.7.3"
  }
 },
 "nbformat": 4,
 "nbformat_minor": 2
}
