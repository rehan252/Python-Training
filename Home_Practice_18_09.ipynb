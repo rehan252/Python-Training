{
 "cells": [
  {
   "cell_type": "code",
   "execution_count": 1,
   "metadata": {},
   "outputs": [],
   "source": [
    "'''Checking Strings immutablity by re-assigning value to its index'''\n",
    "string = \"abcdef\""
   ]
  },
  {
   "cell_type": "code",
   "execution_count": 2,
   "metadata": {},
   "outputs": [
    {
     "ename": "TypeError",
     "evalue": "'str' object does not support item assignment",
     "output_type": "error",
     "traceback": [
      "\u001b[1;31m---------------------------------------------------------------------------\u001b[0m",
      "\u001b[1;31mTypeError\u001b[0m                                 Traceback (most recent call last)",
      "\u001b[1;32m<ipython-input-2-d4d6d80e32db>\u001b[0m in \u001b[0;36m<module>\u001b[1;34m\u001b[0m\n\u001b[1;32m----> 1\u001b[1;33m \u001b[0mstring\u001b[0m\u001b[1;33m[\u001b[0m\u001b[1;36m0\u001b[0m\u001b[1;33m]\u001b[0m \u001b[1;33m=\u001b[0m \u001b[1;34m\"A\"\u001b[0m\u001b[1;33m\u001b[0m\u001b[1;33m\u001b[0m\u001b[0m\n\u001b[0m",
      "\u001b[1;31mTypeError\u001b[0m: 'str' object does not support item assignment"
     ]
    }
   ],
   "source": [
    "string[0] = \"A\""
   ]
  },
  {
   "cell_type": "code",
   "execution_count": 3,
   "metadata": {},
   "outputs": [
    {
     "name": "stdout",
     "output_type": "stream",
     "text": [
      "[0, 1, 2, 3, 4]\n"
     ]
    }
   ],
   "source": [
    "'''List Comprehension'''\n",
    "'''[expression for item in list ]'''\n",
    "\n",
    "number = [num for num in range(5)]\n",
    "print(number)"
   ]
  },
  {
   "cell_type": "code",
   "execution_count": 4,
   "metadata": {},
   "outputs": [
    {
     "name": "stdout",
     "output_type": "stream",
     "text": [
      "[1, 3, 5, 7, 9, 11, 13, 15, 17, 19]\n"
     ]
    }
   ],
   "source": [
    "'''List Comprehension with if statement [expresion for item in list if condition]'''\n",
    "\n",
    "odd = [n for n in range(20) if n%2 != 0]\n",
    "print(odd)"
   ]
  },
  {
   "cell_type": "code",
   "execution_count": 6,
   "metadata": {},
   "outputs": [
    {
     "name": "stdout",
     "output_type": "stream",
     "text": [
      "[0, 10, 20, 30, 40]\n"
     ]
    }
   ],
   "source": [
    "'''List Comprehension using multiple if [expresion for item in list if condition if condition]'''\n",
    "\n",
    "even = [num for num in range(41) if num%2 == 0 if num%5 == 0]\n",
    "print(even)"
   ]
  },
  {
   "cell_type": "code",
   "execution_count": 7,
   "metadata": {},
   "outputs": [
    {
     "name": "stdout",
     "output_type": "stream",
     "text": [
      "[0, 'odd', 2, 'odd', 4, 'odd', 6, 'odd', 8, 'odd', 10, 'odd', 12, 'odd', 14, 'odd', 16, 'odd', 18, 'odd']\n"
     ]
    }
   ],
   "source": [
    "'''List Comprehension using if else [return if condition else return for item in list]'''\n",
    "\n",
    "even_check = [n if n%2 == 0 else \"odd\" for n in range(20)]\n",
    "print(even_check)"
   ]
  },
  {
   "cell_type": "code",
   "execution_count": 9,
   "metadata": {},
   "outputs": [],
   "source": [
    "'''Exception and Error Handling'''\n",
    "\n",
    "def Print_number():\n",
    "    \n",
    "    while True:\n",
    "        try:\n",
    "            num = int(input(\"Please Provide Number: \"))\n",
    "        except:\n",
    "            print(\"whoops!! it's not an Number\")\n",
    "            continue\n",
    "        else:\n",
    "            print(num)\n",
    "            break"
   ]
  },
  {
   "cell_type": "code",
   "execution_count": 10,
   "metadata": {},
   "outputs": [
    {
     "name": "stdout",
     "output_type": "stream",
     "text": [
      "Please Provide Number: o\n",
      "whoops!! it's not an Number\n",
      "Please Provide Number: p\n",
      "whoops!! it's not an Number\n",
      "Please Provide Number: \n",
      "whoops!! it's not an Number\n",
      "Please Provide Number: 9\n",
      "9\n"
     ]
    }
   ],
   "source": [
    "Print_number()"
   ]
  },
  {
   "cell_type": "code",
   "execution_count": 3,
   "metadata": {},
   "outputs": [
    {
     "name": "stdout",
     "output_type": "stream",
     "text": [
      "[[1, 4, 7], [2, 5, 8], [3, 6, 9]]\n"
     ]
    }
   ],
   "source": [
    "\"\"\"Transpose of 2d list\"\"\"\n",
    "lists = [[1,2,3],\n",
    "         [4,5,6],\n",
    "         [7,8,9]]\n",
    "transpose = []\n",
    "for i in range(len(lists[0])):\n",
    "    t_row = []\n",
    "    for r in lists:\n",
    "        t_row.append(r[i])\n",
    "    transpose.append(t_row)\n",
    "print(transpose)"
   ]
  },
  {
   "cell_type": "code",
   "execution_count": 4,
   "metadata": {},
   "outputs": [
    {
     "ename": "SyntaxError",
     "evalue": "invalid syntax (<ipython-input-4-28b266bba6fd>, line 5)",
     "output_type": "error",
     "traceback": [
      "\u001b[1;36m  File \u001b[1;32m\"<ipython-input-4-28b266bba6fd>\"\u001b[1;36m, line \u001b[1;32m5\u001b[0m\n\u001b[1;33m    [transpose for i in range(len(lists[0])) t_row = [] [for r in lists t_row.append(r[i])] transpose.append(t_row)]\u001b[0m\n\u001b[1;37m                                                 ^\u001b[0m\n\u001b[1;31mSyntaxError\u001b[0m\u001b[1;31m:\u001b[0m invalid syntax\n"
     ]
    }
   ],
   "source": [
    "lists = [[1,2,3],\n",
    "         [4,5,6],\n",
    "         [7,8,9]]\n",
    "transpose = []\n",
    "[transpose for i in range(len(lists[0])) t_row = [] [for r in lists t_row.append(r[i])] transpose.append(t_row)]"
   ]
  },
  {
   "cell_type": "code",
   "execution_count": 5,
   "metadata": {},
   "outputs": [
    {
     "name": "stdout",
     "output_type": "stream",
     "text": [
      "[[1, 4, 7], [2, 5, 8], [3, 6, 9]]\n"
     ]
    }
   ],
   "source": [
    "lists = [[1,2,3],[4,5,6],[7,8,9]]\n",
    "\n",
    "#[expression for item in list], Inner loop will be use as Expression for outer loop\n",
    "transpose = [[r[i] for r in lists] for i in range(len(lists))]\n",
    "print(transpose)"
   ]
  },
  {
   "cell_type": "code",
   "execution_count": 1,
   "metadata": {},
   "outputs": [],
   "source": [
    "def Transpose(matrix):\n",
    "    length = len(matrix[0])\n",
    "    print([[row[item] for row in matrix] for item in range(length)])"
   ]
  },
  {
   "cell_type": "code",
   "execution_count": 2,
   "metadata": {},
   "outputs": [
    {
     "name": "stdout",
     "output_type": "stream",
     "text": [
      "[['A', 'W'], ['B', 'X'], ['C', 'Y']]\n"
     ]
    }
   ],
   "source": [
    "Transpose([[\"A\",\"B\",\"C\"],[\"W\",\"X\",\"Y\"]])"
   ]
  },
  {
   "cell_type": "code",
   "execution_count": null,
   "metadata": {},
   "outputs": [],
   "source": []
  }
 ],
 "metadata": {
  "kernelspec": {
   "display_name": "Python 3",
   "language": "python",
   "name": "python3"
  },
  "language_info": {
   "codemirror_mode": {
    "name": "ipython",
    "version": 3
   },
   "file_extension": ".py",
   "mimetype": "text/x-python",
   "name": "python",
   "nbconvert_exporter": "python",
   "pygments_lexer": "ipython3",
   "version": "3.7.3"
  }
 },
 "nbformat": 4,
 "nbformat_minor": 2
}
