{
 "cells": [
  {
   "cell_type": "markdown",
   "metadata": {},
   "source": [
    "### Question No. 1"
   ]
  },
  {
   "cell_type": "code",
   "execution_count": 4,
   "metadata": {},
   "outputs": [],
   "source": [
    "def Poem():\n",
    "    print(\"Twinkle, twinkle, little star,\")\n",
    "    print(\"\\tHow I wonder what you are!\")\n",
    "    print(\"\\t\\tUp above the world so high,\")\n",
    "    print(\"\\t\\tLike a diamond in the sky.\")\n",
    "    print(\"Twinkle, twinkle, little star,\")\n",
    "    print(\"\\tHow i wonder what you are\")"
   ]
  },
  {
   "cell_type": "code",
   "execution_count": 5,
   "metadata": {},
   "outputs": [
    {
     "name": "stdout",
     "output_type": "stream",
     "text": [
      "Twinkle, twinkle, little star,\n",
      "\tHow I wonder what you are!\n",
      "\t\tUp above the world so high,\n",
      "\t\tLike a diamond in the sky.\n",
      "Twinkle, twinkle, little star,\n",
      "\tHow i wonder what you are\n"
     ]
    }
   ],
   "source": [
    "Poem()"
   ]
  },
  {
   "cell_type": "markdown",
   "metadata": {},
   "source": [
    "### Question No. 2"
   ]
  },
  {
   "cell_type": "code",
   "execution_count": 2,
   "metadata": {},
   "outputs": [
    {
     "name": "stdout",
     "output_type": "stream",
     "text": [
      "Python Version:  3.7.3 (default, Mar 27 2019, 17:13:21) [MSC v.1915 64 bit (AMD64)]\n"
     ]
    }
   ],
   "source": [
    "import sys\n",
    "print(f\"Python Version:  {sys.version}\")"
   ]
  },
  {
   "cell_type": "markdown",
   "metadata": {},
   "source": [
    "### Question No. 3"
   ]
  },
  {
   "cell_type": "code",
   "execution_count": 3,
   "metadata": {},
   "outputs": [
    {
     "name": "stdout",
     "output_type": "stream",
     "text": [
      "2019-09-19 00:59:00.726235\n"
     ]
    }
   ],
   "source": [
    "from datetime import datetime\n",
    "Ctime = datetime.now()\n",
    "#datetime.now() will return current date and time\n",
    "print(Ctime)"
   ]
  },
  {
   "cell_type": "markdown",
   "metadata": {},
   "source": [
    "### Question No.  4"
   ]
  },
  {
   "cell_type": "code",
   "execution_count": 8,
   "metadata": {},
   "outputs": [],
   "source": [
    "import math\n",
    "#using math.pi from math library to get value of pi\n",
    "def Area():\n",
    "    radius = int(input(\"Enter Radius of Circle: \"))\n",
    "    print(f\"Area of Circle is {math.pi*(radius**2)}\")"
   ]
  },
  {
   "cell_type": "code",
   "execution_count": 9,
   "metadata": {},
   "outputs": [
    {
     "name": "stdout",
     "output_type": "stream",
     "text": [
      "Enter Radius of Circle: 2\n",
      "Area of Circle is 12.566370614359172\n"
     ]
    }
   ],
   "source": [
    "Area()"
   ]
  },
  {
   "cell_type": "markdown",
   "metadata": {},
   "source": [
    "### Question No.  5"
   ]
  },
  {
   "cell_type": "code",
   "execution_count": 10,
   "metadata": {},
   "outputs": [],
   "source": [
    "def ReverseNameOrder():\n",
    "    \n",
    "    #this function will show the Full name in reverse order\n",
    "    FirstName = input(\"Enter your First Name \")\n",
    "    LastName = input(\"Enter your Last Name \")\n",
    "    print(\"\\nReverse Name: {1} {0}\".format(FirstName,LastName))"
   ]
  },
  {
   "cell_type": "code",
   "execution_count": 11,
   "metadata": {},
   "outputs": [
    {
     "name": "stdout",
     "output_type": "stream",
     "text": [
      "Enter your First Name Rehan\n",
      "Enter your Last Name Farooq\n",
      "Reverse Name: Farooq Rehan\n"
     ]
    }
   ],
   "source": [
    "ReverseNameOrder()"
   ]
  },
  {
   "cell_type": "markdown",
   "metadata": {},
   "source": [
    "### Question No.  6"
   ]
  },
  {
   "cell_type": "code",
   "execution_count": 12,
   "metadata": {},
   "outputs": [],
   "source": [
    "def Sequence():\n",
    "    \n",
    "    #this will accept numbers string from user and convert it into list and tuple\n",
    "    SeqString = input(\"Enter Numbers Separate with commas (Don't use white spaces)\\n\")\n",
    "    SeqList = SeqString.split(\",\")\n",
    "    SeqTuple = tuple(SeqList)\n",
    "    print(\"List: {}\\nTuple: {}\".format(SeqList,SeqTuple))"
   ]
  },
  {
   "cell_type": "code",
   "execution_count": 13,
   "metadata": {},
   "outputs": [
    {
     "name": "stdout",
     "output_type": "stream",
     "text": [
      "Enter Numbers Separate with commas (Don't use white spaces)\n",
      "1,2,6.3,5,9.0021\n",
      "List: ['1', '2', '6.3', '5', '9.0021']\n",
      "Tuple: ('1', '2', '6.3', '5', '9.0021')\n"
     ]
    }
   ],
   "source": [
    "Sequence()"
   ]
  },
  {
   "cell_type": "markdown",
   "metadata": {},
   "source": [
    "### Question No.  7"
   ]
  },
  {
   "cell_type": "code",
   "execution_count": 14,
   "metadata": {},
   "outputs": [
    {
     "data": {
      "text/plain": [
       "'192.168.10.17'"
      ]
     },
     "execution_count": 14,
     "metadata": {},
     "output_type": "execute_result"
    }
   ],
   "source": [
    "import socket\n",
    "#to get current ip of the user\n",
    "socket.gethostbyname(socket.gethostname())"
   ]
  },
  {
   "cell_type": "markdown",
   "metadata": {},
   "source": [
    "### Question No.  8"
   ]
  },
  {
   "cell_type": "code",
   "execution_count": 15,
   "metadata": {},
   "outputs": [],
   "source": [
    "def Empty_Variable(var):\n",
    "    \"\"\"the type() will return data type of given var in form\n",
    "    of magic funtion __int__ when we call this magic function\n",
    "    it re-initialize that var with empty value \"\"\"\n",
    "    \n",
    "    print(type(var)())"
   ]
  },
  {
   "cell_type": "code",
   "execution_count": 16,
   "metadata": {},
   "outputs": [
    {
     "name": "stdout",
     "output_type": "stream",
     "text": [
      "0\n"
     ]
    }
   ],
   "source": [
    "Empty_Variable(20)"
   ]
  },
  {
   "cell_type": "code",
   "execution_count": 17,
   "metadata": {},
   "outputs": [
    {
     "name": "stdout",
     "output_type": "stream",
     "text": [
      "{}\n"
     ]
    }
   ],
   "source": [
    "Empty_Variable({\"y\":10})"
   ]
  },
  {
   "cell_type": "markdown",
   "metadata": {},
   "source": [
    "### Question No.  9"
   ]
  },
  {
   "cell_type": "code",
   "execution_count": null,
   "metadata": {},
   "outputs": [],
   "source": [
    "import math\n",
    "math.__file__"
   ]
  },
  {
   "cell_type": "markdown",
   "metadata": {},
   "source": [
    "### Question No.  10"
   ]
  },
  {
   "cell_type": "code",
   "execution_count": 18,
   "metadata": {},
   "outputs": [
    {
     "name": "stdout",
     "output_type": "stream",
     "text": [
      "386\n",
      "462\n",
      "418\n",
      "904\n",
      "344\n",
      "236\n",
      "566\n",
      "978\n",
      "328\n",
      "162\n",
      "758\n",
      "918\n"
     ]
    }
   ],
   "source": [
    "numbers = [386,462,47,418,904,344,236,375,823,566,597,978,328,615,953,345,399,162,\n",
    "          758,219,918,237,412,566,826,248,866,950,626,949,687,217,815,67,104,58,\n",
    "          512,24,892,894,767,553,81,379,843,831,445,742,717,958,743,527]\n",
    "for n in numbers:\n",
    "    #print all even numbers\n",
    "    if n%2==0:\n",
    "        print (n)\n",
    "    #stop printing if number in list is equal to 237\n",
    "    elif n == 237:\n",
    "            break"
   ]
  },
  {
   "cell_type": "code",
   "execution_count": null,
   "metadata": {},
   "outputs": [],
   "source": []
  }
 ],
 "metadata": {
  "kernelspec": {
   "display_name": "Python 3",
   "language": "python",
   "name": "python3"
  },
  "language_info": {
   "codemirror_mode": {
    "name": "ipython",
    "version": 3
   },
   "file_extension": ".py",
   "mimetype": "text/x-python",
   "name": "python",
   "nbconvert_exporter": "python",
   "pygments_lexer": "ipython3",
   "version": "3.7.3"
  }
 },
 "nbformat": 4,
 "nbformat_minor": 2
}
