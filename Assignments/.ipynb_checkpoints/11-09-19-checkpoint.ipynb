{
 "cells": [
  {
   "cell_type": "code",
   "execution_count": 1,
   "metadata": {},
   "outputs": [
    {
     "name": "stdout",
     "output_type": "stream",
     "text": [
      "{'y': 5, 'z': 2, 'x': 5}\n"
     ]
    }
   ],
   "source": [
    "#first way to find frequency of letters\n",
    "\n",
    "word = ['x','y','x','y','x','x','y','z','y','x','z','y']\n",
    "sets = set(word)\n",
    "points = {}\n",
    "for w in sets:\n",
    "    points[w] = points.get(w,0) + word.count(w)\n",
    "print(points)"
   ]
  },
  {
   "cell_type": "code",
   "execution_count": 9,
   "metadata": {},
   "outputs": [
    {
     "name": "stdout",
     "output_type": "stream",
     "text": [
      "{'x': 5, 'y': 5, 'z': 2}\n"
     ]
    }
   ],
   "source": [
    "#2nd way\n",
    "word = ['x','y','x','y','x','x','y','z','y','x','z','y']\n",
    "sets = set(word)\n",
    "dicts = dict()\n",
    "for w in word:\n",
    "    if w not in dicts.keys():\n",
    "        dicts[w] = 1\n",
    "    else:\n",
    "        dicts[w] += 1\n",
    "print(dicts)"
   ]
  },
  {
   "cell_type": "code",
   "execution_count": null,
   "metadata": {},
   "outputs": [],
   "source": []
  }
 ],
 "metadata": {
  "kernelspec": {
   "display_name": "Python 3",
   "language": "python",
   "name": "python3"
  },
  "language_info": {
   "codemirror_mode": {
    "name": "ipython",
    "version": 3
   },
   "file_extension": ".py",
   "mimetype": "text/x-python",
   "name": "python",
   "nbconvert_exporter": "python",
   "pygments_lexer": "ipython3",
   "version": "3.7.3"
  }
 },
 "nbformat": 4,
 "nbformat_minor": 2
}
