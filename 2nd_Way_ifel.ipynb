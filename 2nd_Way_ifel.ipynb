{
 "cells": [
  {
   "cell_type": "code",
   "execution_count": 1,
   "metadata": {},
   "outputs": [
    {
     "name": "stdout",
     "output_type": "stream",
     "text": [
      "Enter First Number\n",
      "6\n",
      "Enter Second Number\n",
      "4\n",
      "Enter Operator\n",
      "-\n",
      "6 - 4 = 2\n"
     ]
    }
   ],
   "source": [
    "num1 = int(input(\"Enter First Number\\n\"))\n",
    "num2 = int(input(\"Enter Second Number\\n\"))\n",
    "operator = input(\"Enter Operator\\n\")\n",
    "if operator == '+':\n",
    "    print(f\"{num1} + {num2} = {num1+num2}\")\n",
    "elif operator == '-':\n",
    "    print(f\"{num1} - {num2} = {num1-num2}\")\n",
    "elif operator == '*':\n",
    "    print(f\"{num1} * {num2} = {num1*num2}\")\n",
    "elif operator == '/':\n",
    "    print(f\"{num1} / {num2} = {num1/num2}\")\n",
    "elif operator == '%':\n",
    "    print(f\"{num1} % {num2} = {num1%num2}\")\n",
    "else:\n",
    "    print(\"Invalid Input\")"
   ]
  },
  {
   "cell_type": "code",
   "execution_count": null,
   "metadata": {},
   "outputs": [],
   "source": []
  }
 ],
 "metadata": {
  "kernelspec": {
   "display_name": "Python 3",
   "language": "python",
   "name": "python3"
  },
  "language_info": {
   "codemirror_mode": {
    "name": "ipython",
    "version": 3
   },
   "file_extension": ".py",
   "mimetype": "text/x-python",
   "name": "python",
   "nbconvert_exporter": "python",
   "pygments_lexer": "ipython3",
   "version": "3.7.3"
  }
 },
 "nbformat": 4,
 "nbformat_minor": 2
}
