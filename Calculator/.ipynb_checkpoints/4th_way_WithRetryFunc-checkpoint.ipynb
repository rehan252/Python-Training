{
 "cells": [
  {
   "cell_type": "code",
   "execution_count": 1,
   "metadata": {},
   "outputs": [
    {
     "name": "stdout",
     "output_type": "stream",
     "text": [
      "                                  Simple Calculator                                  \n",
      "Enter First Number 36\n",
      "Enter Second Number 4\n",
      "Please Enter an Operator\n",
      "[+,-,*,/,%]\n",
      "/\n",
      "36 / 4 = 9.0\n",
      "Do You Want to Calculate Again!!\n",
      "Press 'Y' for And 'N' for No y\n",
      "Enter First Number 78\n",
      "Enter Second Number -54\n",
      "Please Enter an Operator\n",
      "[+,-,*,/,%]\n",
      "-\n",
      "78 - -54 = 132\n",
      "Do You Want to Calculate Again!!\n",
      "Press 'Y' for And 'N' for No cf\n",
      "Do You Want to Calculate Again!!\n",
      "Press 'Y' for And 'N' for No n\n",
      "Exiting Calculator\n"
     ]
    }
   ],
   "source": [
    "\"\"\"A Calculator using function which provide feasibility\n",
    "   to re-enter operator in case he Enter on first time\"\"\"\n",
    "\n",
    "message = \"Simple Calculator\" \n",
    "print(message.center(85,' '))\n",
    "def Calculator():\n",
    "    number1 = int(input(\"Enter First Number \"))\n",
    "    number2 = int(input(\"Enter Second Number \"))\n",
    "    operator = input(\"Please Enter an Operator\\n[+,-,*,/,%]\\n\")\n",
    "    if operator == '+':\n",
    "        print(f\"{number1} + {number2} = {number1+number2}\")\n",
    "    elif operator == '-':\n",
    "        print(f\"{number1} - {number2} = {number1-number2}\")\n",
    "    elif operator == '*':\n",
    "        print(f\"{number1} * {number2} = {number1*number2}\")\n",
    "    elif operator == '/':\n",
    "        print(f\"{number1} / {number2} = {number1/number2}\")\n",
    "    elif operator == '%':\n",
    "        print(f\"{number1} % {number2} = {number1%number2}\")\n",
    "    else:\n",
    "        print(\"Inavlid Operator!!! Please Retry\")\n",
    "    \n",
    "    Retry()\n",
    "\n",
    "def Retry():\n",
    "    again = input(\"Do You Want to Calculate Again!!\\nPress 'Y' for And 'N' for No \")\n",
    "    if again.lower() == 'y':\n",
    "        Calculator()\n",
    "    elif again.lower() == 'n':\n",
    "        print(\"Exiting Calculator\")\n",
    "        exit()\n",
    "    else:\n",
    "        Retry()\n",
    "    \n",
    "Calculator()"
   ]
  },
  {
   "cell_type": "code",
   "execution_count": null,
   "metadata": {},
   "outputs": [],
   "source": []
  }
 ],
 "metadata": {
  "kernelspec": {
   "display_name": "Python 3",
   "language": "python",
   "name": "python3"
  },
  "language_info": {
   "codemirror_mode": {
    "name": "ipython",
    "version": 3
   },
   "file_extension": ".py",
   "mimetype": "text/x-python",
   "name": "python",
   "nbconvert_exporter": "python",
   "pygments_lexer": "ipython3",
   "version": "3.7.3"
  }
 },
 "nbformat": 4,
 "nbformat_minor": 2
}
