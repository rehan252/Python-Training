{
 "cells": [
  {
   "cell_type": "code",
   "execution_count": null,
   "metadata": {},
   "outputs": [
    {
     "name": "stdout",
     "output_type": "stream",
     "text": [
      "Enter First Number 34\n",
      "Enter Second Number 4\n",
      "Enter Operation\n",
      " [+,-,/,*,%] *\n",
      "34 * 4 = 136\n",
      "\n",
      "\n",
      " Do you want to Calculate Again?\n",
      "Press 'Y' for Yes and 'N' for No y\n",
      "Enter First Number 13\n",
      "Enter Second Number 3\n",
      "Enter Operation\n",
      " [+,-,/,*,%] +\n",
      "13 + 3 = 16\n",
      "\n",
      "\n",
      " Do you want to Calculate Again?\n",
      "Press 'Y' for Yes and 'N' for No k\n"
     ]
    }
   ],
   "source": [
    "import sys\n",
    "\n",
    "def add(num1,num2) : return num1 + num2\n",
    "def sub(num1,num2) : return num1 - num2\n",
    "def mul(num1,num2) : return num1 * num2\n",
    "def div(num1,num2) : return num1 / num2\n",
    "def mod(num1,num2) : return num1 % num2\n",
    "\n",
    "operator = {\"+\":add, \"-\":sub, \"*\":mul, \"/\":div, \"%\":mod}\n",
    "\n",
    "while True:\n",
    "    num1 = int(input(\"Enter First Number \"))\n",
    "    num2 = int(input(\"Enter Second Number \"))\n",
    "    op = input(\"Enter Operation\\n [+,-,/,*,%] \")\n",
    "    if op in operator:\n",
    "        print(f\"{num1} {op} {num2} = {operator[op](num1,num2)}\")\n",
    "        choise = input(\"\\n\\n Do you want to Calculate Again?\\nPress 'Y' for Yes and 'N' for No \")\n",
    "        if choise.lower == 'y' or choise.lower == 'yes':\n",
    "            continue\n",
    "        elif choise.lower == 'n' or choise.lower == 'no':\n",
    "            sys.exit('Exiting.....')\n",
    "    else:\n",
    "         print(\"Inavlid Operator!!!\")   "
   ]
  },
  {
   "cell_type": "code",
   "execution_count": null,
   "metadata": {},
   "outputs": [],
   "source": []
  },
  {
   "cell_type": "code",
   "execution_count": null,
   "metadata": {},
   "outputs": [],
   "source": []
  }
 ],
 "metadata": {
  "kernelspec": {
   "display_name": "Python 3",
   "language": "python",
   "name": "python3"
  }
 },
 "nbformat": 4,
 "nbformat_minor": 2
}
