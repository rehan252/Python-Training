{
 "cells": [
  {
   "cell_type": "markdown",
   "metadata": {},
   "source": [
    "Using eval() which takes string as an Expression to calculate it directly"
   ]
  },
  {
   "cell_type": "code",
   "execution_count": 2,
   "metadata": {},
   "outputs": [
    {
     "name": "stdout",
     "output_type": "stream",
     "text": [
      "Enter your Equation here to Calculate\n",
      "12+3-9*2 e.g.\n",
      "(80-20)/6*(2+9)\n",
      "\n",
      "\n",
      "(80-20)/6*(2+9) = 110.0\n"
     ]
    }
   ],
   "source": [
    "import math\n",
    "equation = input(\"Enter your Equation here to Calculate\\n12+3-9*2 e.g.\\n\")\n",
    "print(f\"\\n{equation} = {eval(equation)}\")"
   ]
  },
  {
   "cell_type": "code",
   "execution_count": null,
   "metadata": {},
   "outputs": [],
   "source": []
  }
 ],
 "metadata": {
  "kernelspec": {
   "display_name": "Python 3",
   "language": "python",
   "name": "python3"
  },
  "language_info": {
   "codemirror_mode": {
    "name": "ipython",
    "version": 3
   },
   "file_extension": ".py",
   "mimetype": "text/x-python",
   "name": "python",
   "nbconvert_exporter": "python",
   "pygments_lexer": "ipython3",
   "version": "3.7.3"
  }
 },
 "nbformat": 4,
 "nbformat_minor": 2
}
