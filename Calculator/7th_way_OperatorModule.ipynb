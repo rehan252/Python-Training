{
 "cells": [
  {
   "cell_type": "markdown",
   "metadata": {},
   "source": [
    "Creating Simple Calculator Using Operator Modules in Dictionary,\n",
    "Reference: https://docs.python.org/3/library/operator.html"
   ]
  },
  {
   "cell_type": "code",
   "execution_count": 6,
   "metadata": {},
   "outputs": [
    {
     "name": "stdout",
     "output_type": "stream",
     "text": [
      "Enter First Number 44\n",
      "Enter Second Number 2\n",
      "Enter Operation to Perform\n",
      "[+ for Add,- for Sub,// for Divide,* for Multiply,% for Mod,** for Power]**\n",
      "\n",
      "44 ** 2 = 1936\n"
     ]
    }
   ],
   "source": [
    "import operator\n",
    "\n",
    "Operators = {\"+\":operator.add, \"-\":operator.sub, \"*\":operator.mul, \"//\":operator.floordiv,\"%\":operator.mod, \"**\":operator.pow}\n",
    "\n",
    "number_1 = int(input(\"Enter First Number \"))\n",
    "number_2 = int(input(\"Enter Second Number \"))\n",
    "operation = input(\"Enter Operation to Perform\\n[+ for Add,- for Sub,// for Divide,* for Multiply,% for Mod,** for Power]\")\n",
    "\n",
    "\n",
    "if operation in Operators:\n",
    "    print(\"\\n{0} {2} {1} = {3}\".format(number_1,number_2,operation,Operators[operation](number_1,number_2)))\n",
    "else:\n",
    "    print(\"Invalid Operator\")"
   ]
  },
  {
   "cell_type": "code",
   "execution_count": null,
   "metadata": {},
   "outputs": [],
   "source": []
  }
 ],
 "metadata": {
  "kernelspec": {
   "display_name": "Python 3",
   "language": "python",
   "name": "python3"
  },
  "language_info": {
   "codemirror_mode": {
    "name": "ipython",
    "version": 3
   },
   "file_extension": ".py",
   "mimetype": "text/x-python",
   "name": "python",
   "nbconvert_exporter": "python",
   "pygments_lexer": "ipython3",
   "version": "3.7.3"
  }
 },
 "nbformat": 4,
 "nbformat_minor": 2
}
