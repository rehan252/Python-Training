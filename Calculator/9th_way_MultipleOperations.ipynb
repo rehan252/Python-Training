{
 "cells": [
  {
   "cell_type": "code",
   "execution_count": 3,
   "metadata": {},
   "outputs": [
    {
     "name": "stdout",
     "output_type": "stream",
     "text": [
      "Enter First Number 3\n",
      "Enter Second Number 2\n",
      "Enter Single Operator or Multiple\n",
      "Seperate with comma +,-,/,*,% +,-,/,*\n",
      "3 + 2 = 5\n",
      "3 - 2 = 1\n",
      "3 / 2 = 1.5\n",
      "3 * 2 = 6\n"
     ]
    }
   ],
   "source": [
    "def add(num1,num2) : return num1 + num2\n",
    "def sub(num1,num2) : return num1 - num2\n",
    "def mul(num1,num2) : return num1 * num2\n",
    "def div(num1,num2) : return num1 / num2\n",
    "def mod(num1,num2) : return num1 % num2\n",
    "\n",
    "operator_dict = {\"+\":add, \"-\":sub, \"*\":mul, \"/\":div, \"%\":mod}\n",
    "\n",
    "num1 = int(input(\"Enter First Number \"))\n",
    "num2 = int(input(\"Enter Second Number \"))\n",
    "opertors = input(\"Enter Single Operator or Multiple\\nSeperate with comma +,-,/,*,% \\n\")\n",
    "operator_list = opertors.split(\",\")\n",
    "for op in operator_list:\n",
    "    if op in operator_dict:\n",
    "        print(f\"{num1} {op} {num2} = {operator_dict[op](num1, num2)}\")\n",
    "    else:\n",
    "        print(\"Invalid Operator or format\")\n",
    "        break\n"
   ]
  },
  {
   "cell_type": "code",
   "execution_count": null,
   "metadata": {},
   "outputs": [],
   "source": []
  }
 ],
 "metadata": {
  "kernelspec": {
   "display_name": "Python 3",
   "language": "python",
   "name": "python3"
  },
  "language_info": {
   "codemirror_mode": {
    "name": "ipython",
    "version": 3
   },
   "file_extension": ".py",
   "mimetype": "text/x-python",
   "name": "python",
   "nbconvert_exporter": "python",
   "pygments_lexer": "ipython3",
   "version": "3.7.3"
  }
 },
 "nbformat": 4,
 "nbformat_minor": 2
}
