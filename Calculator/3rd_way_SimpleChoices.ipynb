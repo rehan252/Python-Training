{
 "cells": [
  {
   "cell_type": "code",
   "execution_count": 12,
   "metadata": {},
   "outputs": [
    {
     "name": "stdout",
     "output_type": "stream",
     "text": [
      "Enter First Number 33\n",
      "Enter Second Number 3\n",
      "\n",
      "Please Choose Operation from 1-5\n",
      "\n",
      "1.Add '+'\n",
      "2.Subtract '-'\n",
      "3.Multiply 'x'\n",
      "4.Divide '/'\n",
      "5. Mode '%'\n",
      "Enter your choise 4\n",
      "33  /  3  =  11.0\n"
     ]
    }
   ],
   "source": [
    "number_1 = int(input(\"Enter First Number \"))\n",
    "number_2 = int(input(\"Enter Second Number \"))\n",
    "print(\"\\nPlease Choose Operation from 1-5\\n\")\n",
    "print(\"1.Add '+'\")\n",
    "print(\"2.Subtract '-'\")\n",
    "print(\"3.Multiply 'x'\")\n",
    "print(\"4.Divide '/'\")\n",
    "print(\"5. Mode '%'\")\n",
    "\n",
    "choise = int(input(\"Enter your choise \"))\n",
    "if choise==1:\n",
    "    print(number_1,\" + \",number_2,\" = \",number_1+number_2)\n",
    "elif choise==2:\n",
    "    print(number_1,\" - \",number_2,\" = \",number_1-number_2)\n",
    "elif choise==3:\n",
    "    print(number_1,\" x \",number_2,\" = \",number_1*number_2)\n",
    "elif choise==4:\n",
    "    print(number_1,\" / \",number_2,\" = \",number_1/number_2)\n",
    "elif choise==5:\n",
    "    print(number_1,\" % \",number_2,\" = \",number_1%number_2)\n",
    "else:\n",
    "    print(\"Invalid Input!!!\")"
   ]
  },
  {
   "cell_type": "code",
   "execution_count": null,
   "metadata": {},
   "outputs": [],
   "source": []
  }
 ],
 "metadata": {
  "kernelspec": {
   "display_name": "Python 3",
   "language": "python",
   "name": "python3"
  },
  "language_info": {
   "codemirror_mode": {
    "name": "ipython",
    "version": 3
   },
   "file_extension": ".py",
   "mimetype": "text/x-python",
   "name": "python",
   "nbconvert_exporter": "python",
   "pygments_lexer": "ipython3",
   "version": "3.7.3"
  }
 },
 "nbformat": 4,
 "nbformat_minor": 2
}
