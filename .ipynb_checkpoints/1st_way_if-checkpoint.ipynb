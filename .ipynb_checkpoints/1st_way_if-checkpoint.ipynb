{
 "cells": [
  {
   "cell_type": "code",
   "execution_count": 3,
   "metadata": {},
   "outputs": [
    {
     "name": "stdout",
     "output_type": "stream",
     "text": [
      "Enter First Number\n",
      "18\n",
      "Enter Second Number\n",
      "-13\n",
      "Enter Operator\n",
      "-\n",
      "18 - -13 = 31\n"
     ]
    }
   ],
   "source": [
    "num1 = int(input(\"Enter First Number\\n\"))\n",
    "num2 = int(input(\"Enter Second Number\\n\"))\n",
    "operator = input(\"Enter Operator\\n\")\n",
    "\n",
    "\"\"\"Below if statement compare 'operator' with given string then formulate\"\"\"\n",
    "\n",
    "if operator == '+':\n",
    "    print(\"{} + {} = {}\".format(num1, num2, num1+num2))\n",
    "if operator == '-':\n",
    "    print(\"{} - {} = {}\".format(num1, num2,num1-num2))\n",
    "if operator == '*':\n",
    "    print(\"{} * {} = {}\".format(num1, num2, num1*num2))\n",
    "if operator == '/':\n",
    "    print(\"{} / {} = {}\".format(num1, num2, num1/num2))\n",
    "if operator == '%':\n",
    "    print(\"{} % {} = {}\".format(num1, num2, num1%num2))"
   ]
  },
  {
   "cell_type": "code",
   "execution_count": null,
   "metadata": {},
   "outputs": [],
   "source": []
  }
 ],
 "metadata": {
  "kernelspec": {
   "display_name": "Python 3",
   "language": "python",
   "name": "python3"
  },
  "language_info": {
   "codemirror_mode": {
    "name": "ipython",
    "version": 3
   },
   "file_extension": ".py",
   "mimetype": "text/x-python",
   "name": "python",
   "nbconvert_exporter": "python",
   "pygments_lexer": "ipython3",
   "version": "3.7.3"
  }
 },
 "nbformat": 4,
 "nbformat_minor": 2
}
