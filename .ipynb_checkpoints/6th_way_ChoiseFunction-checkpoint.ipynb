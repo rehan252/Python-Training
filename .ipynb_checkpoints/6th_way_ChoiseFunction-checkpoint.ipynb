{
 "cells": [
  {
   "cell_type": "code",
   "execution_count": null,
   "metadata": {},
   "outputs": [
    {
     "name": "stdout",
     "output_type": "stream",
     "text": [
      "                             Welcome to Simple Calculator                            \n",
      "\n",
      "Please Choose 1-7 from Below Menu \n",
      "\n",
      "1.Add '+'\n",
      "2.Subtract '-'\n",
      "3.Multiply 'x'\n",
      "4.Divide '/'\n",
      "5.Mode '%'\n",
      "6.Power '**'\n",
      "7.Exit\n",
      "Enter your choise 5\n",
      "Enter First Number 32\n",
      "Enter Second Number 5\n",
      "\n",
      "Please Choose 1-7 from Below Menu \n",
      "\n",
      "1.Add '+'\n",
      "2.Subtract '-'\n",
      "3.Multiply 'x'\n",
      "4.Divide '/'\n",
      "5.Mode '%'\n",
      "6.Power '**'\n",
      "7.Exit\n",
      "Enter your choise 7\n"
     ]
    }
   ],
   "source": [
    "import sys\n",
    "message = \"Welcome to Simple Calculator\" \n",
    "print(message.center(85,' '))\n",
    "\n",
    "#looping through menu until user Enter '6'\n",
    "\n",
    "def Menu():\n",
    "    print(\"\\nPlease Choose 1-7 from Below Menu \\n\")\n",
    "    print(\"1.Add '+'\")\n",
    "    print(\"2.Subtract '-'\")\n",
    "    print(\"3.Multiply 'x'\")\n",
    "    print(\"4.Divide '/'\")\n",
    "    print(\"5.Mode '%'\")\n",
    "    print(\"6.Exit\")\n",
    "    option = int(input(\"Enter your choise \"))\n",
    "    Calculator(option)\n",
    "    \n",
    "#Take option argument from menu as 'choise' \n",
    "def Calculator(choise):\n",
    "    number_1 = int(input(\"Enter First Number \"))\n",
    "    number_2 = int(input(\"Enter Second Number \"))\n",
    "    choise = Menu()\n",
    "    if choise==1:\n",
    "        print(\"\\n\",number_1,\" + \",number_2,\" = \",number_1+number_2)\n",
    "    elif choise==2:\n",
    "        print(\"\\n\",number_1,\" - \",number_2,\" = \",number_1-number_2)\n",
    "    elif choise==3:\n",
    "        print(\"\\n\",number_1,\" x \",number_2,\" = \",number_1*number_2)\n",
    "    elif choise==4:\n",
    "        print(\"\\n\",number_1,\" / \",number_2,\" = \",number_1/number_2)\n",
    "    elif choise==5:\n",
    "        print(\"\\n\",number_1,\" % \",number_2,\" = \",number_1%number_2)\n",
    "    elif choice==6:\n",
    "        print(\"Exiting Calculator.....\")\n",
    "        sys.exit()\n",
    "    else:\n",
    "        print(\"Invalid Input!!!\")   \n",
    "\n",
    "Menu()\n"
   ]
  },
  {
   "cell_type": "code",
   "execution_count": null,
   "metadata": {},
   "outputs": [],
   "source": []
  }
 ],
 "metadata": {
  "kernelspec": {
   "display_name": "Python 3",
   "language": "python",
   "name": "python3"
  },
  "language_info": {
   "codemirror_mode": {
    "name": "ipython",
    "version": 3
   },
   "file_extension": ".py",
   "mimetype": "text/x-python",
   "name": "python",
   "nbconvert_exporter": "python",
   "pygments_lexer": "ipython3",
   "version": "3.7.3"
  }
 },
 "nbformat": 4,
 "nbformat_minor": 2
}
